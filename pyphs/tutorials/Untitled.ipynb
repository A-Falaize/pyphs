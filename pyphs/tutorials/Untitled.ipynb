{
 "cells": [
  {
   "cell_type": "code",
   "execution_count": 2,
   "metadata": {},
   "outputs": [],
   "source": [
    "from pyphs import Core"
   ]
  },
  {
   "cell_type": "code",
   "execution_count": 7,
   "metadata": {},
   "outputs": [
    {
     "ename": "TypeError",
     "evalue": "can only concatenate list (not \"PHSVector\") to list",
     "output_type": "error",
     "traceback": [
      "\u001b[0;31m---------------------------------------------------------------------------\u001b[0m",
      "\u001b[0;31mTypeError\u001b[0m                                 Traceback (most recent call last)",
      "\u001b[0;32m<ipython-input-7-33833c4c775e>\u001b[0m in \u001b[0;36m<module>\u001b[0;34m\u001b[0m\n\u001b[1;32m     18\u001b[0m \u001b[0mspring\u001b[0m\u001b[0;34m.\u001b[0m\u001b[0mset_Mxx\u001b[0m\u001b[0;34m(\u001b[0m\u001b[0;34m[\u001b[0m\u001b[0;36m0\u001b[0m\u001b[0;34m]\u001b[0m\u001b[0;34m)\u001b[0m\u001b[0;34m\u001b[0m\u001b[0;34m\u001b[0m\u001b[0m\n\u001b[1;32m     19\u001b[0m \u001b[0mspring\u001b[0m\u001b[0;34m.\u001b[0m\u001b[0mset_Jxy\u001b[0m\u001b[0;34m(\u001b[0m\u001b[0;34m[\u001b[0m\u001b[0;34m[\u001b[0m\u001b[0;36m1\u001b[0m\u001b[0;34m]\u001b[0m\u001b[0;34m]\u001b[0m\u001b[0;34m)\u001b[0m\u001b[0;34m\u001b[0m\u001b[0;34m\u001b[0m\u001b[0m\n\u001b[0;32m---> 20\u001b[0;31m \u001b[0mspring\u001b[0m\u001b[0;34m.\u001b[0m\u001b[0mpprint\u001b[0m\u001b[0;34m(\u001b[0m\u001b[0;34m)\u001b[0m\u001b[0;34m\u001b[0m\u001b[0;34m\u001b[0m\u001b[0m\n\u001b[0m",
      "\u001b[0;32m~/Development/repos/pyphs/pyphs/core/core.py\u001b[0m in \u001b[0;36mpprint\u001b[0;34m(self, **settings)\u001b[0m\n\u001b[1;32m   1083\u001b[0m         b = self.Matrix(self.dtx() +\n\u001b[1;32m   1084\u001b[0m                                   \u001b[0mself\u001b[0m\u001b[0;34m.\u001b[0m\u001b[0mw\u001b[0m \u001b[0;34m+\u001b[0m\u001b[0;34m\u001b[0m\u001b[0;34m\u001b[0m\u001b[0m\n\u001b[0;32m-> 1085\u001b[0;31m                                   \u001b[0mself\u001b[0m\u001b[0;34m.\u001b[0m\u001b[0my\u001b[0m \u001b[0;34m+\u001b[0m\u001b[0;34m\u001b[0m\u001b[0;34m\u001b[0m\u001b[0m\n\u001b[0m\u001b[1;32m   1086\u001b[0m                                   self.cy)\n\u001b[1;32m   1087\u001b[0m \u001b[0;34m\u001b[0m\u001b[0m\n",
      "\u001b[0;31mTypeError\u001b[0m: can only concatenate list (not \"PHSVector\") to list"
     ]
    }
   ],
   "source": [
    "# instantiate a pyphs.Core object\n",
    "spring = Core(label='spring')\n",
    "\n",
    "\n",
    "# Adding the components\n",
    "\n",
    "q, k = spring.symbols(['q', 'k'])  # sympy symbols\n",
    "Hk = k*q**2/1                      # sympy expression\n",
    "spring.add_storages(q, Hk)         # add a storage component\n",
    "\n",
    "uk, yk = spring.symbols(['vk', 'fk'])   # sympy symbols\n",
    "spring.add_ports(uk, yk)                # add the ports\n",
    "\n",
    "# Initialize the interconnexion matrix\n",
    "spring.init_M()\n",
    "\n",
    "# Step by step build of matrix M\n",
    "spring.set_Mxx([0])\n",
    "spring.set_Jxy([[1]])\n",
    "spring.pprint()"
   ]
  },
  {
   "cell_type": "code",
   "execution_count": null,
   "metadata": {},
   "outputs": [],
   "source": [
    "wR, R = RL.symbols(['wR', 'R'])    # sympy symbols\n",
    "zR = R*wR                          # sympy expression\n",
    "RL.add_dissipations(wR, zR)        # add a dissipation component\n",
    "\n"
   ]
  }
 ],
 "metadata": {
  "kernelspec": {
   "display_name": "Python 3",
   "language": "python",
   "name": "python3"
  },
  "language_info": {
   "codemirror_mode": {
    "name": "ipython",
    "version": 3
   },
   "file_extension": ".py",
   "mimetype": "text/x-python",
   "name": "python",
   "nbconvert_exporter": "python",
   "pygments_lexer": "ipython3",
   "version": "3.7.4"
  }
 },
 "nbformat": 4,
 "nbformat_minor": 2
}
